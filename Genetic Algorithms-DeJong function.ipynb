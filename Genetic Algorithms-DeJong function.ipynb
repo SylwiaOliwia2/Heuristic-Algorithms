{
 "cells": [
  {
   "cell_type": "markdown",
   "metadata": {},
   "source": [
    "Based on: http://lethain.com/genetic-algorithms-cool-name-damn-simple/"
   ]
  },
  {
   "cell_type": "markdown",
   "metadata": {},
   "source": [
    "Function to solve: http://www.pi.zarz.agh.edu.pl/tematy/EA/labor/ea_zad2.html"
   ]
  },
  {
   "cell_type": "code",
   "execution_count": 3,
   "metadata": {
    "collapsed": true
   },
   "outputs": [],
   "source": [
    "from random import randint, random\n",
    "from operator import add\n",
    "from functools import reduce"
   ]
  },
  {
   "cell_type": "markdown",
   "metadata": {},
   "source": [
    "#### Create member of population and population "
   ]
  },
  {
   "cell_type": "code",
   "execution_count": 4,
   "metadata": {
    "collapsed": true
   },
   "outputs": [],
   "source": [
    "def individual(length, min, max):\n",
    "     return [ randint(min,max) for x in range(length) ]"
   ]
  },
  {
   "cell_type": "code",
   "execution_count": 5,
   "metadata": {
    "collapsed": true
   },
   "outputs": [],
   "source": [
    "def population(count, length, min, max):\n",
    "    return[individual(length, min, max) for x in range(count)]"
   ]
  },
  {
   "cell_type": "markdown",
   "metadata": {},
   "source": [
    "#### Fitness function "
   ]
  },
  {
   "cell_type": "code",
   "execution_count": 100,
   "metadata": {
    "collapsed": false
   },
   "outputs": [],
   "source": [
    "def fitness(individual):\n",
    "    fx=100*pow((pow(individual[0]*0.001,2))-individual[1]*0.001,2)\n",
    "    +pow((1-individual[0]*0.001),2)\n",
    "    return fx  #liczba ujemna mniejsza "
   ]
  },
  {
   "cell_type": "markdown",
   "metadata": {},
   "source": [
    "#### Population parameters "
   ]
  },
  {
   "cell_type": "code",
   "execution_count": 105,
   "metadata": {
    "collapsed": true
   },
   "outputs": [],
   "source": [
    "def grade(pop): #średni błąd dla populacji\n",
    "    summed= reduce(add, (fitness(x) for x in pop),0)\n",
    "    return(summed/(len(pop)*1.0))"
   ]
  },
  {
   "cell_type": "markdown",
   "metadata": {},
   "source": [
    "## Breeding & mutation rules "
   ]
  },
  {
   "cell_type": "code",
   "execution_count": 161,
   "metadata": {
    "collapsed": true
   },
   "outputs": [],
   "source": [
    "def evolve(pop, retain=0.1, mutate=0.03):\n",
    "    graded = [ (fitness(x), x) for x in pop] #fit function and indifidual for each individual\n",
    "    graded = [ x[1] for x in sorted(graded)] #above, sorted by fytness (lowest to highest)\n",
    "    retain_length = int(len(graded)*retain) #select indifiduals to stay unchaanged\n",
    "    parents = graded[:retain_length] # take it to crossover\n",
    "\n",
    "    # mutate some individuals\n",
    "    for individual in parents:\n",
    "        if mutate > random():\n",
    "            pos_to_mutate = randint(0, len(individual)-1)\n",
    "            # this mutation is not ideal, because it\n",
    "            # restricts the range of possible values,\n",
    "            # but the function is unaware of the min/max\n",
    "            # values used to create the individuals,\n",
    "            individual[pos_to_mutate] = randint(\n",
    "                min(individual), max(individual))\n",
    "\n",
    "    # crossover parents to create children\n",
    "    parents_length = len(parents)  # take 2 random elements and create child, may not choose some elements, \n",
    "    desired_length = len(pop) - parents_length\n",
    "    children = []\n",
    "    while len(children) < desired_length:\n",
    "        male = randint(0, parents_length-1)\n",
    "        female = randint(0, parents_length-1)\n",
    "        if male != female:\n",
    "            male = parents[male]\n",
    "            female = parents[female]\n",
    "            half = len(male) / 2\n",
    "            child = male[:int(half)] + female[int(half):]\n",
    "            children.append(child)\n",
    "\n",
    "    parents.extend(children)\n",
    "    return parents"
   ]
  },
  {
   "cell_type": "markdown",
   "metadata": {},
   "source": [
    "## Target\n"
   ]
  },
  {
   "cell_type": "code",
   "execution_count": 163,
   "metadata": {
    "collapsed": false
   },
   "outputs": [
    {
     "name": "stdout",
     "output_type": "stream",
     "text": [
      "528.2926855476109\n",
      "65.47674919847553\n",
      "44.86846043321251\n",
      "26.8959594676275\n",
      "0.006681737412500122\n",
      "0.006522177600000159\n",
      "0.839163346960002\n",
      "0.27353939359999946\n",
      "1.0127455977600024\n",
      "0.006522177600000159\n",
      "5.449488825599994\n",
      "0.006522177600000159\n",
      "0.006522177600000159\n",
      "0.006522177600000159\n",
      "0.006522177600000159\n",
      "0.006522177600000159\n",
      "0.006522177600000159\n",
      "0.006522177600000159\n",
      "0.006522177600000159\n",
      "0.006522177600000159\n",
      "2.009074550694003\n",
      "0.006522177600000159\n",
      "0.006522177600000159\n",
      "0.5169827730300003\n",
      "0.006522177600000159\n",
      "0.006522177600000159\n",
      "0.9042029616000029\n",
      "0.7149180176000022\n",
      "0.006522177600000159\n",
      "0.7648679616000025\n",
      "1.2971026576000029\n",
      "0.006522177600000159\n",
      "0.006522177600000159\n",
      "0.006522177600000159\n",
      "0.006522177600000159\n",
      "0.006522177600000159\n",
      "1.9556020656000037\n",
      "4.069592097600004\n",
      "0.006522177600000159\n",
      "0.006522177600000159\n",
      "0.006522177600000159\n",
      "1.0907826736000026\n",
      "0.006522177600000159\n",
      "0.006522177600000159\n",
      "0.006522177600000159\n",
      "0.006522177600000159\n",
      "2.7236691089675027\n",
      "6.114640193599968\n",
      "0.25393378559999996\n",
      "0.2069467718449994\n",
      "3.048351789660003\n",
      "10.868325500437445\n",
      "0.006522177600000159\n",
      "0.006522177600000159\n",
      "0.5040575376000019\n",
      "1.6965665032275021\n",
      "0.006522177600000159\n",
      "0.006522177600000159\n",
      "0.7612416058320014\n",
      "0.3871644426275013\n",
      "0.16073747360000037\n",
      "0.006522177600000159\n",
      "0.006522177600000159\n",
      "0.006522177600000159\n",
      "0.006522177600000159\n",
      "0.006522177600000159\n",
      "9.322003420118461\n",
      "0.006522177600000159\n",
      "3.020786377600004\n",
      "0.8777296656000011\n",
      "0.006522177600000159\n",
      "0.006522177600000159\n",
      "0.006522177600000159\n",
      "0.006522177600000159\n",
      "0.006522177600000159\n",
      "0.006522177600000159\n",
      "0.006522177600000159\n",
      "0.006522177600000159\n",
      "1.9075937612695026\n",
      "0.006522177600000159\n",
      "0.006522177600000159\n",
      "0.006522177600000159\n",
      "0.006522177600000159\n",
      "4.162730529600005\n",
      "0.006522177600000159\n",
      "0.006522177600000159\n",
      "0.006522177600000159\n",
      "0.006522177600000159\n",
      "0.006522177600000159\n",
      "0.38308051360000034\n",
      "7.31251024919996\n",
      "0.3277866175999986\n",
      "0.006522177600000159\n",
      "1.0719697910400026\n",
      "3.2417293705425023\n",
      "0.006522177600000159\n",
      "0.006522177600000159\n",
      "0.006522177600000159\n",
      "0.006522177600000159\n",
      "0.009608577600000157\n",
      "0.006522177600000159\n",
      "population: \n",
      " [[-774, 566], [-774, 591], [-774, 591], [-774, 591], [-774, 591], [-774, 591], [-774, 591], [-774, 591], [-774, 591], [-774, 591], [-774, 591], [-774, 591], [-774, 591], [-774, 591], [-774, 591], [-774, 591], [-774, 591], [-774, 591], [-774, 591], [-774, 591], [-774, 591], [-774, 591], [-774, 591], [-774, 591], [-774, 591], [-774, 591], [-774, 591], [-774, 591], [-774, 591], [-774, 591], [-774, 591], [-774, 591], [-774, 591], [-774, 591], [-774, 591], [-774, 591], [-774, 591], [-774, 591], [-774, 591], [-774, 591], [-774, 591], [-774, 591], [-774, 591], [-774, 591], [-774, 591], [-774, 591], [-774, 591], [-774, 591], [-774, 591], [-774, 591], [-774, 591], [-774, 591], [-774, 591], [-774, 591], [-774, 591], [-774, 591], [-774, 591], [-774, 591], [-774, 591], [-774, 591], [-774, 591], [-774, 591], [-774, 591], [-774, 591], [-774, 591], [-774, 591], [-774, 591], [-774, 591], [-774, 591], [-774, 591], [-774, 591], [-774, 591], [-774, 591], [-774, 591], [-774, 591], [-774, 591], [-774, 591], [-774, 591], [-774, 591], [-774, 591], [-774, 591], [-774, 591], [-774, 591], [-774, 591], [-774, 591], [-774, 591], [-774, 591], [-774, 591], [-774, 591], [-774, 591], [-774, 591], [-774, 591], [-774, 591], [-774, 591], [-774, 566], [-774, 591], [-774, 591], [-774, 591], [-774, 591], [-774, 591], [-774, 591], [-774, 591], [-774, 591], [-774, 591], [-774, 591], [-774, 591], [-774, 591], [-774, 591], [-774, 591], [-774, 591], [-774, 591], [-774, 591], [-774, 591], [-774, 591], [-774, 591], [-774, 591], [-774, 591], [-774, 591], [-774, 591], [-774, 591], [-774, 591], [-774, 591], [-774, 591], [-774, 591], [-774, 591], [-774, 591], [-774, 591], [-774, 591], [-774, 591], [-774, 591], [-774, 591], [-774, 591], [-774, 591], [-774, 591], [-774, 591], [-774, 591], [-774, 591], [-774, 566], [-774, 591], [-774, 591], [-774, 591], [-774, 591], [-774, 591], [-774, 591], [-774, 591], [-774, 591], [-774, 566], [-774, 591], [-774, 591], [-774, 591], [-774, 591], [-774, 591], [-774, 591], [-774, 591], [-774, 591], [-774, 591], [-774, 591], [-774, 591], [-774, 591], [-774, 566], [-774, 591], [-774, 591], [-774, 591], [-774, 591], [-774, 591], [-774, 591], [-774, 591], [-774, 591], [-774, 591], [-774, 591], [-774, 591], [-774, 591], [-774, 591], [-774, 591], [-774, 591], [-774, 591], [-774, 591], [-774, 591], [-774, 591], [-774, 591], [-774, 591], [-774, 591], [-774, 591], [-774, 591], [-774, 591], [-774, 591], [-774, 591], [-774, 591], [-774, 566], [-774, 591], [-774, 591], [-774, 591], [-774, 591], [-774, 591], [-774, 591], [-774, 591], [-774, 591], [-774, 591], [-774, 591], [-774, 591]]\n"
     ]
    }
   ],
   "source": [
    "p_count = 200\n",
    "i_length = 2\n",
    "i_min = -2047\n",
    "i_max = 2047\n",
    "p = population(p_count, i_length, i_min, i_max)\n",
    "fitness_history = [grade(p),]\n",
    "for i in range(100):\n",
    "    populacja = p\n",
    "    p = evolve(p)\n",
    "    fitness_history.append(grade(p))\n",
    "    \n",
    "for datum in fitness_history:\n",
    "    print (datum)\n",
    "print(\"population: \\n\" ,populacja)"
   ]
  }
 ],
 "metadata": {
  "kernelspec": {
   "display_name": "Python 3",
   "language": "python",
   "name": "python3"
  },
  "language_info": {
   "codemirror_mode": {
    "name": "ipython",
    "version": 3
   },
   "file_extension": ".py",
   "mimetype": "text/x-python",
   "name": "python",
   "nbconvert_exporter": "python",
   "pygments_lexer": "ipython3",
   "version": "3.5.2"
  }
 },
 "nbformat": 4,
 "nbformat_minor": 0
}
