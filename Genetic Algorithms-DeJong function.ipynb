{
 "cells": [
  {
   "cell_type": "markdown",
   "metadata": {},
   "source": [
    "Based on code: http://lethain.com/genetic-algorithms-cool-name-damn-simple/"
   ]
  },
  {
   "cell_type": "markdown",
   "metadata": {},
   "source": [
    "Function to solve: http://www.pi.zarz.agh.edu.pl/tematy/EA/labor/ea_zad2.html"
   ]
  },
  {
   "cell_type": "code",
   "execution_count": 20,
   "metadata": {
    "collapsed": false
   },
   "outputs": [],
   "source": [
    "from random import randint, random\n",
    "from operator import add\n",
    "from functools import reduce\n",
    "from numpy.random import choice\n",
    "import string\n",
    "import numpy as np\n",
    "import math"
   ]
  },
  {
   "cell_type": "markdown",
   "metadata": {},
   "source": [
    "#### Create member of population and population "
   ]
  },
  {
   "cell_type": "code",
   "execution_count": 82,
   "metadata": {
    "collapsed": false
   },
   "outputs": [],
   "source": [
    "def individual(min, max):\n",
    "     return [ randint(min,max) for x in range(2)] #range(2) for 2 parameters"
   ]
  },
  {
   "cell_type": "code",
   "execution_count": 83,
   "metadata": {
    "collapsed": true
   },
   "outputs": [],
   "source": [
    "def population(count, min, max):\n",
    "    return[individual(min, max) for x in range(count)]"
   ]
  },
  {
   "cell_type": "markdown",
   "metadata": {},
   "source": [
    "#### Fitness function "
   ]
  },
  {
   "cell_type": "markdown",
   "metadata": {},
   "source": [
    "Searching for local minimum in space [-2.047;2.047]"
   ]
  },
  {
   "cell_type": "code",
   "execution_count": 4,
   "metadata": {
    "collapsed": false
   },
   "outputs": [],
   "source": [
    "def fitness(individual):\n",
    "    fx=(100*pow((pow(individual[0]*0.001,2))-individual[1]*0.001,2)\n",
    "    +pow((1-individual[0]*0.001),2))\n",
    "    return fx  #liczba ujemna mniejsza "
   ]
  },
  {
   "cell_type": "markdown",
   "metadata": {},
   "source": [
    "#### Population parameters "
   ]
  },
  {
   "cell_type": "code",
   "execution_count": 5,
   "metadata": {
    "collapsed": true
   },
   "outputs": [],
   "source": [
    "def grade(pop): #średni błąd dla populacji\n",
    "    summed= reduce(add, (fitness(x) for x in pop),0)\n",
    "    return(summed/(len(pop)*1.0))"
   ]
  },
  {
   "cell_type": "markdown",
   "metadata": {},
   "source": [
    "#### new population of parents - roulette selection"
   ]
  },
  {
   "cell_type": "code",
   "execution_count": 102,
   "metadata": {
    "collapsed": true
   },
   "outputs": [],
   "source": [
    "def roulette_selection(lista):\n",
    "    fitness_value = [ (fitness(x), x) for x in lista] #fit function and indifidual for each individual\n",
    "    \n",
    "    def rank(value):\n",
    "        return (1/math.sqrt(value))\n",
    "    \n",
    "    fitness_sum = sum(rank(fit) for fit,x in fitness_value)\n",
    "    weights =[rank(fit)/fitness_sum for fit,x in fitness_value]\n",
    "    parents_length=len(weights)\n",
    "    parents_indicator = choice(range(parents_length),int(parents_length),p=weights) \n",
    "    selected_parents=[fitness_value[i][1] for i in parents_indicator]\n",
    "    return (selected_parents)"
   ]
  },
  {
   "cell_type": "code",
   "execution_count": 90,
   "metadata": {
    "collapsed": true
   },
   "outputs": [],
   "source": [
    "def convert_to_binary(data, bit_length):\n",
    "    return [(format(x,bit_length),format(y,bit_length)) for x,y in data]"
   ]
  },
  {
   "cell_type": "markdown",
   "metadata": {},
   "source": [
    "## Breeding & mutation rules "
   ]
  },
  {
   "cell_type": "code",
   "execution_count": 132,
   "metadata": {
    "collapsed": false
   },
   "outputs": [],
   "source": [
    "def evolve(pop, retain=0.2, mutate=0.1):\n",
    "    \n",
    "    graded = [ (fitness(x), x) for x in pop] #fit function and indifidual for each individual\n",
    "    graded = [ x[1] for x in sorted(graded)] #above, sorted by fitness (lowest to highest)\n",
    "    retain_length = int(len(graded)*retain) #select indifiduals to stay unchaanged\n",
    "    \n",
    "    ### retain some parents\n",
    "    retained_parents=[]\n",
    "    retained_parents = graded[:retain_length] \n",
    "    not_retained_parents = graded[retain_length:]\n",
    "    \n",
    "    new_parents=roulette_selection(not_retained_parents)\n",
    "    \n",
    "    new_parents_binary=convert_to_binary(new_parents,bit_length=\"014b\")\n",
    "    \n",
    "    ###crossover\n",
    "    n_of_bits=len(new_parents_binary[0][0])\n",
    "    length_new_parents=len(new_parents)\n",
    "    ind1 = choice(range(length_new_parents),size=length_new_parents,replace=False) #  point out on new_parents_binary\n",
    "    split_point=choice(n_of_bits-4,size=int(length_new_parents/2),replace=True)+2  # create split point for each parent\n",
    "\n",
    "    # if length_new_parents is even, take middle value and append to parents_to retain\n",
    "    if (int(length_new_parents/2))%1!=0:\n",
    "        to_append=new_parents_binary[int(length_new_parents/2)+1]\n",
    "        to_append=[int(to_append[0],2),int(to_append[1],2)]\n",
    "        retained_parents.append(to_append)\n",
    "        \n",
    "    #crossover\n",
    "    for i in range(int(length_new_parents/2)):\n",
    "        parent1,parent2=new_parents_binary[i-1],new_parents_binary[length_new_parents-i-1]\n",
    "        child1=(parent1[0][:split_point[i]]+parent2[0][split_point[i]:],parent1[1][:split_point[i]]+parent2[1][split_point[i]:])\n",
    "        child2=(parent2[0][:split_point[i]]+parent1[0][split_point[i]:],parent2[1][:split_point[i]]+parent1[1][split_point[i]:])\n",
    "        \n",
    "        # mutate with proabbility=\"mutate\"\n",
    "        if choice([0,1], 1, p=[1-mutate,mutate])==1:            \n",
    "            index1=randint(3,n_of_bits-1)\n",
    "            child1=(child1[0][:index1] + str(\"1\") + child1[0][index1 + 1:],child1[1]) # change only 1st. element of 1st. child\n",
    "        if choice([0,1], 1, p=[1-mutate,mutate])==1:\n",
    "            index2=randint(3,n_of_bits-1)      \n",
    "            child2=(child2[0],child2[1][:index2] + str(\"1\") + child2[1][index2 + 1:])# change only 2st. element of 2st. child\n",
    "        #change to integer\n",
    "        int_child1=[int(child1[0],2),int(child1[1],2)]\n",
    "        int_child2=[int(child2[0],2),int(child2[1],2)]        \n",
    "        retained_parents.append(int_child1)\n",
    "        retained_parents.append(int_child2)\n",
    "    return (retained_parents)"
   ]
  },
  {
   "cell_type": "markdown",
   "metadata": {},
   "source": [
    "## Target\n"
   ]
  },
  {
   "cell_type": "code",
   "execution_count": 138,
   "metadata": {
    "collapsed": false
   },
   "outputs": [
    {
     "name": "stdout",
     "output_type": "stream",
     "text": [
      "392.8112719546079\n",
      "377.098643353222\n",
      "154.88238073572404\n",
      "115.02056838705799\n",
      "113.49136200378801\n",
      "86.17700172312401\n",
      "35.000082101051994\n",
      "16.484315437792002\n",
      "27.960055323490007\n",
      "6.762841158338\n",
      "3.321069980546001\n",
      "4.922431311036\n",
      "36.39791194312802\n",
      "2.378274663258\n",
      "5.982320675294\n",
      "7.9850491137559985\n",
      "0.5603598901340002\n",
      "1.429974746576\n",
      "1.3696635163959998\n",
      "1.1958837327119998\n",
      "0.5316938512460001\n",
      "7.791998347059998\n",
      "0.8273687425559999\n",
      "0.29304430753599997\n",
      "0.29691421140599994\n",
      "0.8370837293519995\n",
      "7.559477736065999\n",
      "0.2916472890879999\n",
      "0.434652909848\n",
      "7.703447555191998\n",
      "0.2933122453419999\n",
      "1.3696791412120002\n",
      "0.29253309523599996\n",
      "0.8312735323520002\n",
      "0.837193140056\n",
      "0.29124644102599995\n",
      "0.2913609759960001\n",
      "3.364636012544003\n",
      "0.3012217896540001\n",
      "8.699233989779998\n",
      "0.8423482953820002\n",
      "8.527099749307997\n",
      "0.3034578228440001\n",
      "0.3072316474820002\n",
      "2.556598506418\n",
      "0.2899185250080002\n",
      "0.2881334248840001\n",
      "1.246622812662\n",
      "0.2899927452420002\n",
      "0.29753545970200024\n",
      "2.9575950371380006\n",
      "population: \n",
      " [[1007, 1014], [889, 791], [877, 763], [1017, 1016], [877, 750], [682, 445], [957, 957], [1325, 1725], [554, 301], [480, 246], [424, 190], [424, 190], [426, 189], [426, 191], [426, 189], [426, 189], [426, 191], [424, 190], [426, 189], [426, 189], [426, 189], [426, 191], [426, 191], [424, 190], [427, 189], [442, 189], [424, 190], [424, 190], [427, 189], [443, 189], [426, 189], [426, 189], [426, 189], [426, 189], [426, 189], [424, 190], [426, 189], [424, 190], [426, 189], [426, 189], [426, 189], [427, 189], [426, 189], [426, 189], [426, 191], [426, 189], [426, 189], [440, 190], [506, 189], [440, 190]]\n"
     ]
    }
   ],
   "source": [
    "p_count = 50\n",
    "i_min = -2047\n",
    "i_max = 2047\n",
    "p = population(p_count, i_min, i_max)\n",
    "fitness_history = [grade(p),]\n",
    "for i in range(50):\n",
    "    populacja = p\n",
    "    p = evolve(p)\n",
    "    fitness_history.append(grade(p))\n",
    "    \n",
    "for datum in fitness_history:\n",
    "    print (datum)\n",
    "print(\"population: \\n\" ,populacja)"
   ]
  }
 ],
 "metadata": {
  "kernelspec": {
   "display_name": "Python 3",
   "language": "python",
   "name": "python3"
  },
  "language_info": {
   "codemirror_mode": {
    "name": "ipython",
    "version": 3
   },
   "file_extension": ".py",
   "mimetype": "text/x-python",
   "name": "python",
   "nbconvert_exporter": "python",
   "pygments_lexer": "ipython3",
   "version": "3.5.2"
  }
 },
 "nbformat": 4,
 "nbformat_minor": 0
}
